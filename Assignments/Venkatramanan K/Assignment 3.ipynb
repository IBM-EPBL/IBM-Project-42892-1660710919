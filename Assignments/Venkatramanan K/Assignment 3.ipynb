{
 "cells": [
  {
   "cell_type": "code",
   "execution_count": null,
   "id": "f9ed52d0",
   "metadata": {},
   "outputs": [],
   "source": []
  },
  {
   "cell_type": "code",
   "execution_count": 1,
   "id": "0140b2f6-8fb4-4af2-b7a5-73d39daaff26",
   "metadata": {},
   "outputs": [],
   "source": [
    "from tensorflow.keras.models import Sequential\n",
    "from tensorflow.keras.layers import Dense"
   ]
  },
  {
   "cell_type": "code",
   "execution_count": 2,
   "id": "bb7292a1-46ce-4a72-befd-b68f4fadf8da",
   "metadata": {},
   "outputs": [],
   "source": [
    "from tensorflow.keras.layers import Convolution2D\n",
    "from tensorflow.keras.layers import MaxPooling2D\n",
    "from tensorflow.keras.layers import Flatten"
   ]
  },
  {
   "cell_type": "code",
   "execution_count": 3,
   "id": "7354b80e-59b5-4ef7-a237-3455a102aa3b",
   "metadata": {},
   "outputs": [],
   "source": [
    "from tensorflow.keras.preprocessing.image import ImageDataGenerator\n",
    "#Image Augmentation"
   ]
  },
  {
   "cell_type": "code",
   "execution_count": 4,
   "id": "8ff097ef-eb74-4c7b-bf64-3638af807100",
   "metadata": {},
   "outputs": [],
   "source": [
    "train_datagen=ImageDataGenerator(rescale=1./255,shear_range=0.2,zoom_range=0.2,horizontal_flip=True,vertical_flip=True)"
   ]
  },
  {
   "cell_type": "code",
   "execution_count": 5,
   "id": "e7a75758-07f1-46bc-8a76-2bf8bb72a20d",
   "metadata": {},
   "outputs": [],
   "source": [
    "test_datagen=ImageDataGenerator(rescale=1./255)"
   ]
  },
  {
   "cell_type": "code",
   "execution_count": 6,
   "id": "9ede6565-67d9-4252-b310-25ee0908cf2f",
   "metadata": {},
   "outputs": [
    {
     "name": "stdout",
     "output_type": "stream",
     "text": [
      "Found 4317 images belonging to 5 classes.\n"
     ]
    }
   ],
   "source": [
    "x_train=train_datagen.flow_from_directory(r\"C:\\Users\\Admin\\Downloads\\Flowers-Dataset\\flowers\\training\",target_size=(64,64),batch_size=32,class_mode=\"categorical\")"
   ]
  },
  {
   "cell_type": "code",
   "execution_count": 7,
   "id": "60aa7d16-ecf7-4448-a01a-c19fa5d76c09",
   "metadata": {},
   "outputs": [
    {
     "name": "stdout",
     "output_type": "stream",
     "text": [
      "Found 4317 images belonging to 5 classes.\n"
     ]
    }
   ],
   "source": [
    "x_test=test_datagen.flow_from_directory(r\"C:\\Users\\Admin\\Downloads\\Flowers-Dataset\\flowers\\test\",target_size=(64,64),batch_size=32,class_mode=\"categorical\")"
   ]
  },
  {
   "cell_type": "code",
   "execution_count": 8,
   "id": "a7da6b27-960b-4942-85d7-fc816a4fbc74",
   "metadata": {},
   "outputs": [
    {
     "data": {
      "text/plain": [
       "{'daisy': 0, 'dandelion': 1, 'rose': 2, 'sunflower': 3, 'tulip': 4}"
      ]
     },
     "execution_count": 8,
     "metadata": {},
     "output_type": "execute_result"
    }
   ],
   "source": [
    "x_train.class_indices"
   ]
  },
  {
   "cell_type": "code",
   "execution_count": 9,
   "id": "fe17aafd-085d-48fc-844b-016d9262cf2d",
   "metadata": {},
   "outputs": [],
   "source": [
    "#Create Model\n",
    "model=Sequential()"
   ]
  },
  {
   "cell_type": "code",
   "execution_count": 10,
   "id": "f7050ba9-97eb-4a0d-aa75-150ccc7863a9",
   "metadata": {},
   "outputs": [],
   "source": [
    "#Convolution Layer\n",
    "model.add(Convolution2D(32,(3,3),input_shape=(64,64,3),activation='relu'))"
   ]
  },
  {
   "cell_type": "code",
   "execution_count": 11,
   "id": "f10fdaed-b5d9-4fce-870d-862290c3da73",
   "metadata": {},
   "outputs": [],
   "source": [
    "#Maxpooling Layer\n",
    "model.add(MaxPooling2D(pool_size=(2,2)))"
   ]
  },
  {
   "cell_type": "code",
   "execution_count": 12,
   "id": "ed09e312-f57f-471c-8779-ac73ebe8b3ea",
   "metadata": {},
   "outputs": [],
   "source": [
    "#Flatten or input Layer\n",
    "model.add(Flatten())"
   ]
  },
  {
   "cell_type": "code",
   "execution_count": 13,
   "id": "fbe586a1-57ac-4743-bb87-e161bd43b567",
   "metadata": {},
   "outputs": [],
   "source": [
    "#Dense or Hidden Layer\n",
    "model.add(Dense(units=300,kernel_initializer=\"random_uniform\",activation=\"relu\"))"
   ]
  },
  {
   "cell_type": "code",
   "execution_count": 14,
   "id": "d38aaadb-b1ee-4060-9c37-d42ae25b80f9",
   "metadata": {},
   "outputs": [],
   "source": [
    "model.add(Dense(units=100,kernel_initializer=\"random_uniform\",activation=\"relu\"))"
   ]
  },
  {
   "cell_type": "code",
   "execution_count": 15,
   "id": "94788cb2-e18e-4176-b7fd-cb4bd5b750d7",
   "metadata": {},
   "outputs": [],
   "source": [
    "#Output Layer\n",
    "model.add(Dense(units=5,kernel_initializer=\"random_uniform\",activation=\"softmax\"))"
   ]
  },
  {
   "cell_type": "code",
   "execution_count": 16,
   "id": "336a8d9b-7d07-46dd-afe9-2f6011627bb3",
   "metadata": {},
   "outputs": [],
   "source": [
    "#Compile The Model\n",
    "model.compile(loss=\"categorical_crossentropy\",optimizer=\"adam\",metrics=[\"accuracy\"])"
   ]
  },
  {
   "cell_type": "code",
   "execution_count": 17,
   "id": "40bd4f11-8009-45c7-b458-abd64434a8f6",
   "metadata": {},
   "outputs": [],
   "source": [
    "#Fit The Model"
   ]
  },
  {
   "cell_type": "code",
   "execution_count": 18,
   "id": "bb93b4d5-f890-435b-83fd-b5ad29950c9d",
   "metadata": {},
   "outputs": [
    {
     "name": "stderr",
     "output_type": "stream",
     "text": [
      "C:\\Users\\Admin\\AppData\\Local\\Temp\\ipykernel_41660\\1407625897.py:1: UserWarning: `Model.fit_generator` is deprecated and will be removed in a future version. Please use `Model.fit`, which supports generators.\n",
      "  model.fit_generator(x_train,steps_per_epoch=135,epochs=30,validation_data=x_test,validation_steps=135)\n"
     ]
    },
    {
     "name": "stdout",
     "output_type": "stream",
     "text": [
      "Epoch 1/30\n",
      "135/135 [==============================] - 50s 359ms/step - loss: 1.2947 - accuracy: 0.4348 - val_loss: 1.1609 - val_accuracy: 0.5182\n",
      "Epoch 2/30\n",
      "135/135 [==============================] - 41s 307ms/step - loss: 1.1279 - accuracy: 0.5319 - val_loss: 1.0818 - val_accuracy: 0.5495\n",
      "Epoch 3/30\n",
      "135/135 [==============================] - 41s 303ms/step - loss: 1.0509 - accuracy: 0.5742 - val_loss: 1.1639 - val_accuracy: 0.5393\n",
      "Epoch 4/30\n",
      "135/135 [==============================] - 42s 312ms/step - loss: 0.9853 - accuracy: 0.6095 - val_loss: 0.9657 - val_accuracy: 0.6176\n",
      "Epoch 5/30\n",
      "135/135 [==============================] - 48s 353ms/step - loss: 0.9360 - accuracy: 0.6379 - val_loss: 1.0048 - val_accuracy: 0.6141\n",
      "Epoch 6/30\n",
      "135/135 [==============================] - 46s 341ms/step - loss: 0.8820 - accuracy: 0.6488 - val_loss: 0.8447 - val_accuracy: 0.6759\n",
      "Epoch 7/30\n",
      "135/135 [==============================] - 61s 455ms/step - loss: 0.8607 - accuracy: 0.6648 - val_loss: 0.8128 - val_accuracy: 0.6785\n",
      "Epoch 8/30\n",
      "135/135 [==============================] - 62s 457ms/step - loss: 0.8178 - accuracy: 0.6880 - val_loss: 0.9716 - val_accuracy: 0.6322\n",
      "Epoch 9/30\n",
      "135/135 [==============================] - 61s 456ms/step - loss: 0.7667 - accuracy: 0.6975 - val_loss: 0.7964 - val_accuracy: 0.7023\n",
      "Epoch 10/30\n",
      "135/135 [==============================] - 47s 351ms/step - loss: 0.7434 - accuracy: 0.7211 - val_loss: 0.7193 - val_accuracy: 0.7343\n",
      "Epoch 11/30\n",
      "135/135 [==============================] - 85s 630ms/step - loss: 0.7372 - accuracy: 0.7192 - val_loss: 0.8836 - val_accuracy: 0.6484\n",
      "Epoch 12/30\n",
      "135/135 [==============================] - 61s 452ms/step - loss: 0.7016 - accuracy: 0.7331 - val_loss: 0.6441 - val_accuracy: 0.7501\n",
      "Epoch 13/30\n",
      "135/135 [==============================] - 44s 329ms/step - loss: 0.6718 - accuracy: 0.7545 - val_loss: 0.7177 - val_accuracy: 0.7278\n",
      "Epoch 14/30\n",
      "135/135 [==============================] - 46s 342ms/step - loss: 0.6583 - accuracy: 0.7484 - val_loss: 0.6483 - val_accuracy: 0.7554\n",
      "Epoch 15/30\n",
      "135/135 [==============================] - 41s 302ms/step - loss: 0.6343 - accuracy: 0.7619 - val_loss: 0.6230 - val_accuracy: 0.7665\n",
      "Epoch 16/30\n",
      "135/135 [==============================] - 46s 340ms/step - loss: 0.6029 - accuracy: 0.7695 - val_loss: 0.5715 - val_accuracy: 0.7897\n",
      "Epoch 17/30\n",
      "135/135 [==============================] - 43s 318ms/step - loss: 0.5961 - accuracy: 0.7783 - val_loss: 0.5699 - val_accuracy: 0.7857\n",
      "Epoch 18/30\n",
      "135/135 [==============================] - 41s 303ms/step - loss: 0.5618 - accuracy: 0.7890 - val_loss: 0.5016 - val_accuracy: 0.8068\n",
      "Epoch 19/30\n",
      "135/135 [==============================] - 41s 302ms/step - loss: 0.5460 - accuracy: 0.7832 - val_loss: 0.5128 - val_accuracy: 0.8075\n",
      "Epoch 20/30\n",
      "135/135 [==============================] - 41s 303ms/step - loss: 0.5323 - accuracy: 0.8013 - val_loss: 0.5286 - val_accuracy: 0.8001\n",
      "Epoch 21/30\n",
      "135/135 [==============================] - 61s 457ms/step - loss: 0.4993 - accuracy: 0.8121 - val_loss: 0.4201 - val_accuracy: 0.8448\n",
      "Epoch 22/30\n",
      "135/135 [==============================] - 62s 457ms/step - loss: 0.5005 - accuracy: 0.8142 - val_loss: 0.4379 - val_accuracy: 0.8397\n",
      "Epoch 23/30\n",
      "135/135 [==============================] - 50s 370ms/step - loss: 0.4844 - accuracy: 0.8202 - val_loss: 0.4218 - val_accuracy: 0.8416\n",
      "Epoch 24/30\n",
      "135/135 [==============================] - 44s 323ms/step - loss: 0.4607 - accuracy: 0.8381 - val_loss: 0.3678 - val_accuracy: 0.8636\n",
      "Epoch 25/30\n",
      "135/135 [==============================] - 45s 333ms/step - loss: 0.4434 - accuracy: 0.8332 - val_loss: 0.4526 - val_accuracy: 0.8360\n",
      "Epoch 26/30\n",
      "135/135 [==============================] - 42s 314ms/step - loss: 0.4204 - accuracy: 0.8464 - val_loss: 0.3779 - val_accuracy: 0.8608\n",
      "Epoch 27/30\n",
      "135/135 [==============================] - 41s 303ms/step - loss: 0.4050 - accuracy: 0.8480 - val_loss: 0.3413 - val_accuracy: 0.8786\n",
      "Epoch 28/30\n",
      "135/135 [==============================] - 41s 308ms/step - loss: 0.4056 - accuracy: 0.8504 - val_loss: 0.3327 - val_accuracy: 0.8851\n",
      "Epoch 29/30\n",
      "135/135 [==============================] - 40s 298ms/step - loss: 0.3563 - accuracy: 0.8668 - val_loss: 0.2980 - val_accuracy: 0.8967\n",
      "Epoch 30/30\n",
      "135/135 [==============================] - 42s 311ms/step - loss: 0.3720 - accuracy: 0.8617 - val_loss: 0.5007 - val_accuracy: 0.8112\n"
     ]
    },
    {
     "data": {
      "text/plain": [
       "<keras.callbacks.History at 0x1cd02c8fd30>"
      ]
     },
     "execution_count": 18,
     "metadata": {},
     "output_type": "execute_result"
    }
   ],
   "source": [
    "model.fit_generator(x_train,steps_per_epoch=135,epochs=30,validation_data=x_test,validation_steps=135)\n"
   ]
  },
  {
   "cell_type": "code",
   "execution_count": 19,
   "id": "4d559825-9f0b-4d91-9c42-541ce17d4473",
   "metadata": {},
   "outputs": [],
   "source": [
    "#Save The Model\n",
    "model.save(\"flower.h5\")"
   ]
  },
  {
   "cell_type": "code",
   "execution_count": 20,
   "id": "2b519125-5e5d-4fe0-9d9a-97684e04645c",
   "metadata": {},
   "outputs": [],
   "source": [
    "from tensorflow.keras.models import load_model"
   ]
  },
  {
   "cell_type": "code",
   "execution_count": 21,
   "id": "eb1ffeca-a964-4626-a303-5dc70f68b104",
   "metadata": {},
   "outputs": [],
   "source": [
    "from tensorflow.keras.preprocessing import image"
   ]
  },
  {
   "cell_type": "code",
   "execution_count": 22,
   "id": "87c3a39f-52e9-4e36-b277-dc612b08d485",
   "metadata": {},
   "outputs": [],
   "source": [
    "import numpy as np"
   ]
  },
  {
   "cell_type": "code",
   "execution_count": 23,
   "id": "4c6abf8b-6b7d-4f3c-bee9-c2f15fc11872",
   "metadata": {},
   "outputs": [],
   "source": [
    "model1=load_model(\"flower.h5\")"
   ]
  },
  {
   "cell_type": "code",
   "execution_count": 26,
   "id": "89266231-38cc-45e9-90b3-5e3bec9d5ce7",
   "metadata": {},
   "outputs": [],
   "source": [
    "img=image.load_img(r\"C:\\Users\\Admin\\Downloads\\Flowers-Dataset\\4318007511_e9f4311936_n.jpg\",target_size=(64,64))"
   ]
  },
  {
   "cell_type": "code",
   "execution_count": 27,
   "id": "3873cd07-2fe2-4cb2-a7d7-600fe0c96c49",
   "metadata": {},
   "outputs": [
    {
     "data": {
      "image/png": "[encoded data removed]",
      "text/plain": [
       "<PIL.Image.Image image mode=RGB size=64x64 at 0x1CD073BAE80>"
      ]
     },
     "execution_count": 27,
     "metadata": {},
     "output_type": "execute_result"
    }
   ],
   "source": [
    "img"
   ]
  },
  {
   "cell_type": "code",
   "execution_count": 28,
   "id": "b45b3ae4-436e-4a0f-a892-05097372fca9",
   "metadata": {},
   "outputs": [],
   "source": [
    "#Test The Model\n",
    "x=image.img_to_array(img)"
   ]
  },
  {
   "cell_type": "code",
   "execution_count": 29,
   "id": "587961ff-bccc-47e0-8c0e-50fc8b17a428",
   "metadata": {},
   "outputs": [
    {
     "data": {
      "text/plain": [
       "(64, 64, 3)"
      ]
     },
     "execution_count": 29,
     "metadata": {},
     "output_type": "execute_result"
    }
   ],
   "source": [
    "x.shape"
   ]
  },
  {
   "cell_type": "code",
   "execution_count": 30,
   "id": "17ec77e4-be13-4c04-b166-89950d6a65f6",
   "metadata": {},
   "outputs": [
    {
     "data": {
      "text/plain": [
       "(1, 64, 64, 3)"
      ]
     },
     "execution_count": 30,
     "metadata": {},
     "output_type": "execute_result"
    }
   ],
   "source": [
    "x=np.expand_dims(x,axis=0)\n",
    "x.shape"
   ]
  },
  {
   "cell_type": "code",
   "execution_count": 31,
   "id": "1881156a-718e-4acb-9090-77f9cc944156",
   "metadata": {},
   "outputs": [
    {
     "name": "stdout",
     "output_type": "stream",
     "text": [
      "1/1 [==============================] - 1s 669ms/step\n"
     ]
    }
   ],
   "source": [
    "pred=model1.predict(x)"
   ]
  },
  {
   "cell_type": "code",
   "execution_count": 32,
   "id": "d60c2273-63dc-4b1a-8caf-815ca45de1fe",
   "metadata": {},
   "outputs": [],
   "source": [
    "class_name=[\"Daisy\",\"Dandelion\",\"Rose\",\"Sunflower\",\"Tulip\"]\n",
    "pred_id=pred.argmax(axis=1)[0]"
   ]
  },
  {
   "cell_type": "code",
   "execution_count": 33,
   "id": "ba01214c-ee21-4036-aa8d-d92e25c07da6",
   "metadata": {},
   "outputs": [
    {
     "name": "stdout",
     "output_type": "stream",
     "text": [
      "Pridicted flower is  Rose\n"
     ]
    }
   ],
   "source": [
    "print(\"Pridicted flower is \",str(class_name[pred_id]))"
   ]
  },
  {
   "cell_type": "code",
   "execution_count": null,
   "id": "8e3349b4-5f9c-40c7-93f2-93422733566f",
   "metadata": {},
   "outputs": [],
   "source": []
  }
 ],
 "metadata": {
  "kernelspec": {
   "display_name": "Python 3 (ipykernel)",
   "language": "python",
   "name": "python3"
  },
  "language_info": {
   "codemirror_mode": {
    "name": "ipython",
    "version": 3
   },
   "file_extension": ".py",
   "mimetype": "text/x-python",
   "name": "python",
   "nbconvert_exporter": "python",
   "pygments_lexer": "ipython3",
   "version": "3.9.12"
  }
 },
 "nbformat": 4,
 "nbformat_minor": 5
}
